{
 "cells": [
  {
   "cell_type": "markdown",
   "metadata": {},
   "source": [
    "Import necessary packages"
   ]
  },
  {
   "cell_type": "code",
   "execution_count": 1,
   "metadata": {},
   "outputs": [],
   "source": [
    "import numpy as np\n",
    "import matplotlib.pyplot as plt\n",
    "import pandas as pd"
   ]
  },
  {
   "cell_type": "markdown",
   "metadata": {},
   "source": [
    "TODO 1: Read the data from ```data.csv``` using ```pandas```"
   ]
  },
  {
   "cell_type": "code",
   "execution_count": 54,
   "metadata": {},
   "outputs": [],
   "source": [
    "# Complete TODO 1\n",
    "data = pd.read_csv('data.csv')\n",
    "# Store the column labelleed X as a numpy array named X \n",
    "X = data['X']\n",
    "# Store the column labeled y as a numpy array named y\n",
    "y = data['y']\n",
    "# Ensure that you reshape them properly\n",
    "X = X.values.reshape(-1,1)\n",
    "y = y.values.reshape(-1,1)"
   ]
  },
  {
   "cell_type": "markdown",
   "metadata": {},
   "source": [
    "TODO 2: Complete the ```normalize``` function. For a numpy array X, normalized output will be \n",
    "```(X - mean(X))/standard_devaiation(X)```\n"
   ]
  },
  {
   "cell_type": "code",
   "execution_count": 65,
   "metadata": {},
   "outputs": [],
   "source": [
    "def normalize(X):\n",
    "    #Complete TODO 2\n",
    "    mean = np.mean(X)\n",
    "    std = np.std(X)\n",
    "    X_norm = (X - mean) / std\n",
    "    return X_norm\n",
    "\n",
    "X_norm = normalize(X)\n",
    "y_norm = normalize(y)\n",
    "\n",
    "# Initialize parameters\n",
    "theta = np.random.randn(2, 1)  # We have 2 parameters (theta_0 and theta_1)"
   ]
  },
  {
   "cell_type": "markdown",
   "metadata": {},
   "source": [
    "TODO 3: Complete the function ```complete_cost``` function below. Refer to Problem statement for the cost (error) function for linear regression.\n",
    "\n",
    "Here, ```X``` : np.array of x-coordinates of points\n",
    "\n",
    "```y``` : np.array of y-coordinates of points\n",
    "\n",
    "```theta``` : np.array of parameters"
   ]
  },
  {
   "cell_type": "code",
   "execution_count": 66,
   "metadata": {},
   "outputs": [],
   "source": [
    "def compute_cost(X, y, theta):\n",
    "    m = len(y)\n",
    "    X_b = np.c_[np.ones((m, 1)), X]  # Add bias term (x0 = 1)\n",
    "    #Complete TODO 3\n",
    "    predictions = X_b.dot(theta)\n",
    "    errors = predictions - y\n",
    "    # Calculate the cost\n",
    "    cost = (1.0 / (2.0 * m)) * np.sum(errors ** 2)\n",
    "    return cost"
   ]
  },
  {
   "cell_type": "markdown",
   "metadata": {},
   "source": [
    "TODO 4: Implement Gradient Descent for linear regression according to algorithm given in the Problem Statement. Your only task is to update theta properly by finding the gradient correctly."
   ]
  },
  {
   "cell_type": "code",
   "execution_count": 67,
   "metadata": {},
   "outputs": [],
   "source": [
    "def gradient_descent(X, y, theta, learning_rate, iterations):\n",
    "    m = len(y)\n",
    "    X_b = np.c_[np.ones((m, 1)), X]  # Add bias term (x0 = 1)\n",
    "    cost_history = []\n",
    "\n",
    "    for _ in range(iterations):\n",
    "        #Complete TODO 4\n",
    "        # Update theta\n",
    "        cost = compute_cost(X, y, theta)\n",
    "        cost_history.append(cost)\n",
    "        predictions = X_b.dot(theta)\n",
    "        errors = predictions - y\n",
    "        gradients = (1.0 / m) * X_b.T.dot(errors)\n",
    "        theta -= learning_rate * gradients\n",
    "    return theta, cost_history"
   ]
  },
  {
   "cell_type": "markdown",
   "metadata": {},
   "source": [
    "TODO 5: Find ```theta_optimal``` and ```cost_history``` by calling the ```gradient_descent``` function. Also, print them."
   ]
  },
  {
   "cell_type": "code",
   "execution_count": 68,
   "metadata": {},
   "outputs": [],
   "source": [
    "learning_rate = 0.1\n",
    "iterations = 1000\n",
    "\n",
    "#Complete TODO 5\n",
    "theta_optimal, cost_history = gradient_descent(X_norm, y_norm, theta, learning_rate, iterations)"
   ]
  },
  {
   "cell_type": "code",
   "execution_count": 69,
   "metadata": {},
   "outputs": [
    {
     "data": {
      "text/plain": [
       "array([[9.97447734e-16],\n",
       "       [8.77082403e-01]])"
      ]
     },
     "execution_count": 69,
     "metadata": {},
     "output_type": "execute_result"
    }
   ],
   "source": [
    "theta_optimal"
   ]
  },
  {
   "cell_type": "code",
   "execution_count": 70,
   "metadata": {},
   "outputs": [
    {
     "data": {
      "text/plain": [
       "[<matplotlib.lines.Line2D at 0x162e10f2b10>]"
      ]
     },
     "execution_count": 70,
     "metadata": {},
     "output_type": "execute_result"
    },
    {
     "data": {
      "image/png": "[encoded data removed]",
      "text/plain": [
       "<Figure size 640x480 with 1 Axes>"
      ]
     },
     "metadata": {},
     "output_type": "display_data"
    }
   ],
   "source": [
    "n = len(cost_history)\n",
    "x = np.linspace(0, n, n)\n",
    "plt.plot(x, cost_history)"
   ]
  },
  {
   "cell_type": "code",
   "execution_count": null,
   "metadata": {},
   "outputs": [],
   "source": []
  }
 ],
 "metadata": {
  "kernelspec": {
   "display_name": "Python 3",
   "language": "python",
   "name": "python3"
  },
  "language_info": {
   "codemirror_mode": {
    "name": "ipython",
    "version": 3
   },
   "file_extension": ".py",
   "mimetype": "text/x-python",
   "name": "python",
   "nbconvert_exporter": "python",
   "pygments_lexer": "ipython3",
   "version": "3.12.3"
  }
 },
 "nbformat": 4,
 "nbformat_minor": 2
}
